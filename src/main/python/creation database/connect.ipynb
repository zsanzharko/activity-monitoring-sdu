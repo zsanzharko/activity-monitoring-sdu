{
 "cells": [
  {
   "cell_type": "code",
   "execution_count": 2,
   "metadata": {
    "pycharm": {
     "name": "#%%\n"
    }
   },
   "outputs": [],
   "source": [
    "import mysql.connector\n",
    "from mysql.connector import Error\n",
    "from mysql.connector import errorcode\n",
    "import bcrypt"
   ]
  },
  {
   "cell_type": "markdown",
   "metadata": {
    "pycharm": {
     "name": "#%% md\n"
    }
   },
   "source": [
    "#### CONFIG"
   ]
  },
  {
   "cell_type": "code",
   "execution_count": 198,
   "metadata": {
    "pycharm": {
     "name": "#%%\n"
    }
   },
   "outputs": [],
   "source": [
    "HOST = 'localhost'\n",
    "DATABASE = 'am' # put your database\n",
    "USER = 'root'\n",
    "PASSWORD = 'root'\n",
    "# SALT = bcrypt.gensalt() # generate salt for encrypting"
   ]
  },
  {
   "cell_type": "code",
   "execution_count": 199,
   "metadata": {
    "pycharm": {
     "name": "#%%\n"
    }
   },
   "outputs": [],
   "source": [
    "# file = open('salt.txt', 'w')\n",
    "# file.write(str(SALT)[2:-1])\n",
    "# file.close()"
   ]
  },
  {
   "cell_type": "code",
   "execution_count": 224,
   "metadata": {
    "pycharm": {
     "name": "#%%\n"
    }
   },
   "outputs": [],
   "source": [
    "file = open('salt.txt', 'r')\n",
    "SALT = bytes(str(file.readline()), 'utf-8')"
   ]
  },
  {
   "cell_type": "code",
   "execution_count": 201,
   "metadata": {
    "pycharm": {
     "name": "#%%\n"
    }
   },
   "outputs": [
    {
     "name": "stdout",
     "output_type": "stream",
     "text": [
      "Connected to swe database\n"
     ]
    }
   ],
   "source": [
    "try:\n",
    "    connection = mysql.connector.connect(host=HOST, database=DATABASE, user=USER, password=PASSWORD)\n",
    "    if connection.is_connected():\n",
    "        cursor = connection.cursor()\n",
    "        cursor.execute('select database();')\n",
    "        record = cursor.fetchone()\n",
    "        cursor.close()\n",
    "        connection.close()\n",
    "        print('Connected to {} database'.format(record[0]))\n",
    "except Error as e:\n",
    "    print('Error while connecting to MySQL', e)   "
   ]
  },
  {
   "cell_type": "code",
   "execution_count": 202,
   "metadata": {
    "pycharm": {
     "name": "#%%\n"
    }
   },
   "outputs": [],
   "source": [
    "# test\n",
    "def selectAll(tname):\n",
    "    try:\n",
    "        connection = mysql.connector.connect(host=HOST, database=DATABASE, user=USER, password=PASSWORD)\n",
    "        if connection.is_connected():\n",
    "            cursor = connection.cursor()\n",
    "            cursor.execute(\"select * from {};\".format(tname))\n",
    "            records = cursor.fetchall()\n",
    "            print(cursor.rowcount)\n",
    "            for row in records:\n",
    "                print(row)\n",
    "            cursor.close()\n",
    "    except Error as e:\n",
    "        print('Error while connecting to MySQL', e)   "
   ]
  },
  {
   "cell_type": "markdown",
   "metadata": {
    "pycharm": {
     "name": "#%% md\n"
    }
   },
   "source": [
    "#### CREATE TABLE IN DATABASE ```SWE```"
   ]
  },
  {
   "cell_type": "code",
   "execution_count": 203,
   "metadata": {
    "pycharm": {
     "name": "#%%\n"
    }
   },
   "outputs": [],
   "source": [
    "DB_NAME = 'swe'"
   ]
  },
  {
   "cell_type": "code",
   "execution_count": 225,
   "metadata": {
    "pycharm": {
     "name": "#%%\n"
    }
   },
   "outputs": [],
   "source": [
    "TABLES = {}\n",
    "\n",
    "TABLES['users'] = (\"\"\"\n",
    "    create table users (\n",
    "        user_id decimal(6, 0) primary key,\n",
    "        user_first_name varchar(20) not null,\n",
    "        user_last_name varchar(30) not null,\n",
    "        user_type varchar(10),\n",
    "        user_gender varchar(6), -- gender: 0 - female, 1 - male\n",
    "        user_email varchar(60) not null,\n",
    "        user_password varchar(100) not null,\n",
    "        user_enabled decimal(1, 0) default 0\n",
    "    ); \n",
    "\"\"\")\n",
    "\n",
    "TABLES['projects'] = (\"\"\"\n",
    "    create table projects (\n",
    "        id decimal(4, 0),\n",
    "        project_id varchar(30),\n",
    "        version varchar(2),\n",
    "        primary key (project_id, version),\n",
    "        title varchar(30),\n",
    "        description varchar(4000) not null,\n",
    "        status varchar(11) default 'NOT_STARTED',\n",
    "        start_date date,\n",
    "        expected_time decimal(38, 0),\n",
    "        spent_time decimal(38, 0) default 0\n",
    "    );\n",
    "\"\"\")\n",
    "\n",
    "TABLES['activities'] = (\"\"\"\n",
    "    create table activities (\n",
    "        activity_id decimal(8, 0) primary key,\n",
    "        title varchar(30),\n",
    "        description varchar(4000) not null,\n",
    "        status varchar(11) default 'NOT_STARTED', -- status: 0 - not started, 1 - in process, 2 - finished\n",
    "        start_date date,\n",
    "        expected_time decimal(5, 0),\n",
    "        spent_time decimal(5, 0) default 0\n",
    "    );\n",
    "\"\"\")\n",
    "\n",
    "TABLES['report'] = (\"\"\"\n",
    "    create table report (\n",
    "        activity_id decimal(8, 0) not null,\n",
    "        report_date date not null,\n",
    "        primary key (activity_id, report_date),\n",
    "        spent_time decimal(4, 0) not null\n",
    "    );\n",
    "\"\"\")\n",
    "\n",
    "TABLES['consist'] = (\"\"\"\n",
    "    create table consist (\n",
    "        activity_id decimal(8, 0) primary key,\n",
    "        project_id decimal(4, 0) not null\n",
    "    );\n",
    "\"\"\")\n",
    "\n",
    "TABLES['role'] = (\"\"\"\n",
    "    create table role (\n",
    "        user_id decimal(6, 0) not null,  \n",
    "        activity_id decimal(8, 0) not null,\n",
    "        primary key (user_id, activity_id),\n",
    "        position varchar(20)\n",
    "    );\n",
    "\"\"\")\n",
    "\n",
    "TABLES['manage'] = (\"\"\"\n",
    "    create table manage (\n",
    "        user_id decimal(6, 0) not null,\n",
    "        project_id decimal(4, 0) primary key\n",
    "    );\n",
    "\"\"\")"
   ]
  },
  {
   "cell_type": "code",
   "execution_count": 226,
   "metadata": {
    "pycharm": {
     "name": "#%%\n"
    }
   },
   "outputs": [
    {
     "name": "stdout",
     "output_type": "stream",
     "text": [
      "Creating table users: users\n",
      "already exists.\n",
      "Creating table projects: projects\n",
      "created.\n",
      "Creating table activities: activities\n",
      "already exists.\n",
      "Creating table report: report\n",
      "already exists.\n",
      "Creating table consist: consist\n",
      "already exists.\n",
      "Creating table role: role\n",
      "already exists.\n",
      "Creating table manage: manage\n",
      "already exists.\n"
     ]
    }
   ],
   "source": [
    "try:\n",
    "    connection = mysql.connector.connect(host=HOST, database=DATABASE, user=USER, password=PASSWORD)\n",
    "    if connection.is_connected():\n",
    "        cursor = connection.cursor()\n",
    "        for tname in TABLES:\n",
    "            tdescription = TABLES[tname]\n",
    "            try:\n",
    "                print(\"Creating table {}: \".format(tname), end='')\n",
    "                print(tname)\n",
    "                cursor.execute(tdescription)\n",
    "            except Error as err:\n",
    "                if err.errno == errorcode.ER_TABLE_EXISTS_ERROR:\n",
    "                    print(\"already exists.\")\n",
    "                else:\n",
    "                    print(err.msg)\n",
    "            else:\n",
    "                print(\"created.\")\n",
    "        cursor.close()\n",
    "        connection.commit()\n",
    "        connection.close()\n",
    "except Error as e:\n",
    "    print('Error while connecting to MySQL', e)   \n"
   ]
  },
  {
   "cell_type": "markdown",
   "metadata": {
    "pycharm": {
     "name": "#%% md\n"
    }
   },
   "source": [
    "#### INSERT FUNCTION"
   ]
  },
  {
   "cell_type": "code",
   "execution_count": 206,
   "metadata": {
    "pycharm": {
     "name": "#%%\n"
    }
   },
   "outputs": [],
   "source": [
    "def insert(data, tname):\n",
    "    try:\n",
    "        connection = mysql.connector.connect(host=HOST, database=DATABASE, user=USER, password=PASSWORD)\n",
    "        if connection.is_connected():\n",
    "            cursor = connection.cursor()\n",
    "            for i in data:\n",
    "                try:\n",
    "                    cursor.execute((\"insert into {} values (\".format(tname)) + i + \");\")\n",
    "                except Error as err:\n",
    "                    print(err.msg)\n",
    "                else:\n",
    "                    print(\"inserted.\")\n",
    "            cursor.close()\n",
    "            connection.commit()\n",
    "            connection.close()\n",
    "    except Error as e:\n",
    "        print('Error while connecting to MySQL', e)   "
   ]
  },
  {
   "cell_type": "markdown",
   "metadata": {
    "pycharm": {
     "name": "#%% md\n"
    }
   },
   "source": [
    "#### INSERT INTO TABLE ```USERS```"
   ]
  },
  {
   "cell_type": "code",
   "execution_count": 207,
   "metadata": {
    "pycharm": {
     "name": "#%%\n"
    }
   },
   "outputs": [],
   "source": [
    "def crypt(password, salt=SALT):\n",
    "    hpassword = bcrypt.hashpw(password, salt)\n",
    "    return str(hpassword)[2:-1]"
   ]
  },
  {
   "cell_type": "code",
   "execution_count": 208,
   "metadata": {
    "pycharm": {
     "name": "#%%\n"
    }
   },
   "outputs": [],
   "source": [
    "USERS = []\n",
    "\n",
    "USERS += (\n",
    "    \"\"\"1, 'Sanzhar', 'Zhanibekov', 'EMPLOYEE', 'MALE', '190103039@stu.sdu.edu.kz', '{}', 1\"\"\".format(crypt(b'190103039')),\n",
    "    \"\"\"2, 'Dias', 'Aimuratov', 'EMPLOYEE', 'MALE', '190103268@stu.sdu.edu.kz', '{}', 1\"\"\".format(crypt(b'190103268')),\n",
    "    \"\"\"3, 'Asmina', 'Barkhandinova', 'MANAGER', 'FEMALE', '190103102@stu.sdu.edu.kz', '{}', 1\"\"\".format(crypt(b'190103102')),\n",
    "    \"\"\"4, 'Ilyas', 'Mohammad', 'EMPLOYEE', 'MALE', '190107005@stu.sdu.edu.kz', '{}', 1\"\"\".format(crypt(b'190107005')),\n",
    "    \"\"\"5, 'Ayan', 'Serikkhan', 'EMPLOYEE', 'FEMALE', '190103116@stu.sdu.edu.kz', '{}', 1\"\"\".format(crypt(b'190103116')),\n",
    "    \"\"\"6, 'Dauletkhan', 'Narynbaev', 'EMPLOYEE', 'FEMALE', '190107008@stu.sdu.edu.kz', '{}', 1\"\"\".format(crypt(b'190107008')),\n",
    "    \"\"\"7, 'Nurbakyt', 'Zhumatayev', 'EMPLOYEE', 'MALE', '190103092@stu.sdu.edu.kz', '{}', 1\"\"\".format(crypt(b'190103092')),\n",
    "    \"\"\"8, 'Madiyar', 'Akhmetkali', 'MANAGER', 'FEMALE', '190107081@stu.sdu.edu.kz', '{}', 1\"\"\".format(crypt(b'190107081')),\n",
    "    \"\"\"9, 'Nurzhanat', 'Zhubatyrov', 'EMPLOYEE', 'MALE', '190103418@stu.sdu.edu.kz', '{}', 1\"\"\".format(crypt(b'190103418'))\n",
    ")"
   ]
  },
  {
   "cell_type": "code",
   "execution_count": 209,
   "metadata": {
    "pycharm": {
     "name": "#%%\n"
    }
   },
   "outputs": [
    {
     "name": "stdout",
     "output_type": "stream",
     "text": [
      "inserted.\n",
      "inserted.\n",
      "inserted.\n",
      "inserted.\n",
      "inserted.\n",
      "inserted.\n",
      "inserted.\n",
      "inserted.\n",
      "inserted.\n"
     ]
    }
   ],
   "source": [
    "insert(USERS, 'users')"
   ]
  },
  {
   "cell_type": "markdown",
   "metadata": {
    "pycharm": {
     "name": "#%% md\n"
    }
   },
   "source": [
    "#### INSERT INTO TABLE ```PROJECTS```"
   ]
  },
  {
   "cell_type": "code",
   "execution_count": 227,
   "metadata": {
    "pycharm": {
     "name": "#%%\n"
    }
   },
   "outputs": [],
   "source": [
    "PROJECTS = []\n",
    "\n",
    "PROJECTS += (\n",
    "    \"\"\"1, '1111DXP', 'A', 'Stock price prediction', '\n",
    "        Stock market prediction is the act of trying to determine the future value \n",
    "        of a company stock or other financial instrument traded on an exchange. The \n",
    "        successful prediction of a stock''s future price could yield significant profit. \n",
    "        The efficient-market hypothesis suggests that stock prices reflect all currently \n",
    "        available information and any price changes that are not based on newly revealed \n",
    "        information thus are inherently unpredictable. Others disagree and those with \n",
    "        this viewpoint possess myriad methods and technologies which purportedly allow \n",
    "        them to gain future price information.\n",
    "    ', 'FINISHED', '2022-01-01', 129600, 110253\"\"\",\n",
    "    \"\"\"2, '2222DXP', 'A', 'Activity monitoring', '\n",
    "        The software house OnTimeSoftware develops software on contract,\n",
    "        usually at fixed time, fixed price, and with specified functionality and\n",
    "        quality. One of the hardest problems is to detect early on that an activity\n",
    "        will take longer than expected. If you can detect it early, it is possible to\n",
    "        help the developer currently carrying out the activity, for instance by letting\n",
    "        a seasoned expert review the work and offer guidance. If you detect the\n",
    "        problem late, the activity may have run off the track, be costly to correct,\n",
    "        and it will soon hamper many other activities.\n",
    "        Seasoned project managers know that they can get an early warning in\n",
    "        this way: The developer responsible for a given activity records every day\n",
    "        how many hours he has worked on the activity, and every weekend he gives\n",
    "        an estimate of the remaining number of hours. Project management now\n",
    "        computes an estimate of the total number of hours for the activity:\n",
    "        total expected = hours spent + hours remaining\n",
    "        In a straightforward activity this figure remains constant from week to\n",
    "        week, and when no hours remain, it is finished. If the figure starts\n",
    "        increasing, something is wrong, and help is most likely needed. Experience\n",
    "        is that the problem in this way can be detected between 60% and 80% into\n",
    "        the activity, while it otherwise tends to be detected when more than the total\n",
    "        expected time has been used.\n",
    "        Unfortunately, the procedure is cumbersome to manage, and company\n",
    "        management wants to support it with an IT system. At the same time they\n",
    "        want a better record of the work hours per activity, which many developers\n",
    "        at present record many days too late. The recording is at present also used\n",
    "        for billing some of the customers, and for collecting experience data of\n",
    "        hours used for various sizes of projects.\n",
    "        When staffing a project, department managers and project managers\n",
    "        have troubles getting an overview of who will be available in the period\n",
    "        where the project is carried out. They expect the system to give them an\n",
    "        overview of this too.\n",
    "    ', 'IN_PROCESS', '2022-03-22', 15480, 10000\"\"\"\n",
    ")\n"
   ]
  },
  {
   "cell_type": "code",
   "execution_count": 228,
   "metadata": {
    "pycharm": {
     "name": "#%%\n"
    }
   },
   "outputs": [
    {
     "name": "stdout",
     "output_type": "stream",
     "text": [
      "inserted.\n",
      "inserted.\n"
     ]
    }
   ],
   "source": [
    "insert(PROJECTS, 'projects')"
   ]
  },
  {
   "cell_type": "markdown",
   "metadata": {
    "pycharm": {
     "name": "#%% md\n"
    }
   },
   "source": [
    "#### INSERT INTO TABLE ```ACTIVITIES```"
   ]
  },
  {
   "cell_type": "code",
   "execution_count": 229,
   "metadata": {
    "pycharm": {
     "name": "#%%\n"
    }
   },
   "outputs": [],
   "source": [
    "ACTIVITIES = []\n",
    "\n",
    "ACTIVITIES += (\n",
    "    \"\"\"1, 'Data mining', '\n",
    "        Data mining is a process used by companies to turn raw data into useful \n",
    "        information. By using software to look for patterns in large batches of \n",
    "        data, businesses can learn more about their customers to develop more \n",
    "        effective marketing strategies, increase sales and decrease costs.\n",
    "    ', 'FINISHED', '2022-01-01', 14400, 14253\"\"\",\n",
    "    \"\"\"2, 'Data preparation', '\n",
    "        Transforming raw data so that data scientists and analysts can run it \n",
    "        through machine learning algorithms to uncover insights or make predictions.\n",
    "    ', 'FINISHED', '2022-01-11', 13000, 10080\"\"\",\n",
    "    \"\"\"3, 'Build model', '\n",
    "        Organizations are implementing AI projects for numerous applications in a \n",
    "        wide range of industries. These applications include predictive analytics, \n",
    "        pattern recognition systems, autonomous systems, conversational systems, \n",
    "        hyper-personalization activities and goal-driven systems. Each of these \n",
    "        projects has something in common: They''re all predicated on an understanding of \n",
    "        the business problem and that data and machine learning algorithms must be applied \n",
    "        to the problem, resulting in a machine learning model that addresses the project''s needs.\n",
    "    ', 'FINISHED', '2022-01-19', 30000, 28800\"\"\",\n",
    "    \"\"\"4, 'Testing model', '\n",
    "        One of the aspects of building a Machine Learning model is to check whether the data \n",
    "        used for training and testing the model belong to an adversary dataset. The adversary \n",
    "        data sets are that can be used to skew the results of the model by training the model \n",
    "        using incorrect data called as Data Poisoning Attack.\n",
    "    ', 'FINISHED', '2022-02-09', 24680, 21600\"\"\",\n",
    "    \"\"\"5, 'Debugging', '\n",
    "        Debugging is the process of detecting and removing of existing and potential errors \n",
    "        (also called as ''bugs'') in a software code that can cause it to behave unexpectedly \n",
    "        or crash. To prevent incorrect operation of a software or system, debugging is used \n",
    "        to find and resolve bugs or defects.\n",
    "    ', 'FINISHED', '2022-02-26', 21600, 14400\"\"\",\n",
    "    \"\"\"6, 'Validation', '\n",
    "        Validation data provides an initial check that the model can return useful predictions \n",
    "        in a real-world setting, which training data cannot do. The ML algorithm can assess \n",
    "        training data and validation data at the same time.\n",
    "    ', 'FINISHED', '2022-02-08', 22600, 21120\"\"\",\n",
    "\n",
    "    \"\"\"7, 'Create database', '\n",
    "        A database is an organized collection of structured information, or data, typically stored \n",
    "        electronically in a computer system. A database is usually controlled by a database management \n",
    "        system (DBMS).\n",
    "    ', 'FINISHED', '2022-04-01', 1440, 960\"\"\",\n",
    "    \"\"\"8, 'Login Page Front', '\n",
    "        Frontend login is the page that your registered site users use to login when you require \n",
    "        authentication for your site. For example, you may want all users who can leave comments to be \n",
    "        logged in; or you can require everybody who checks out products to be registered and logged in.\n",
    "    ', 'FINISHED', '2022-04-03', 1440, 960\"\"\",\n",
    "    \"\"\"9, 'Login Page Back', '\n",
    "        The back-end, also called the server side, consists of the server which provides data on request, \n",
    "        the application which channels it, and the database which organizes the information. For example, \n",
    "        when a customer browses shoes on a website, they are interacting with the front end.\n",
    "    ', 'FINISHED', '2022-04-03', 1440, 960\"\"\",\n",
    "    \"\"\"10, 'Connect to database', '\n",
    "        A database connection is a facility in computer science that allows client software to talk to \n",
    "        database server software, whether on the same machine or not. A connection is required to send \n",
    "        commands and receive answers, usually in the form of a result set. Connections are a key concept \n",
    "        in data-centric programming.\n",
    "    ', 'FINISHED', '2022-04-05', 600, 480\"\"\",\n",
    "    \"\"\"11, 'User Dashboard Page Front', '\n",
    "        A front-end developer builds the front-end portion of websites and web applications—that is, \n",
    "        the part that users actually see and interact with. A front-end developer creates websites and \n",
    "        applications using web languages such as HTML, CSS, and JavaScript allow users to access and \n",
    "        interact with the site or app.\n",
    "    ', 'FINISHED', '2022-04-06', 1440, 960\"\"\",\n",
    "    \"\"\"12, 'User Dashboard Page Back', '\n",
    "        When back-end developers create apps that render on the server-side, they use the same building \n",
    "        blocks as front-end developers: HTML, CSS and JavaScript. Back-end developers also work with \n",
    "        software stacks that include operating systems, web servers, frameworks, languages, programming APIs and more.\n",
    "    ', 'FINISHED', '2022-04-06', 1440, 960\"\"\",\n",
    "    \"\"\"13, 'Create project pane Front', '\n",
    "       In publishing and graphic design, Lorem ipsum is a placeholder text commonly used to demonstrate the visual \n",
    "       form of a document or a typeface without relying on meaningful content. Lorem ipsum may be used as \n",
    "       a placeholder before the final copy is available.\n",
    "    ', 'IN_PROCESS', '2022-04-10', 960, 300\"\"\",\n",
    "    \"\"\"14, 'Create project pane Back', '\n",
    "       In publishing and graphic design, Lorem ipsum is a placeholder text commonly used to demonstrate the visual \n",
    "       form of a document or a typeface without relying on meaningful content. Lorem ipsum may be used as \n",
    "       a placeholder before the final copy is available.\n",
    "    ', 'IN_PROCESS', '2022-04-10', 960, 120\"\"\",\n",
    "    \"\"\"15, 'Make Analysis', '\n",
    "       Data analysis is defined as a process of cleaning, transforming, and modeling data to discover useful \n",
    "       information for business decision-making. The purpose of Data Analysis is to extract useful information \n",
    "       from data and taking the decision based upon the data analysis\n",
    "    ', 'NOT_STARTED', NULL, 2880, 0\"\"\",\n",
    "    \"\"\"16, 'Make Documentation', '\n",
    "       Documentation is any communicable material that is used to describe, explain or instruct regarding some \n",
    "       attributes of an object, system or procedure, such as its parts, assembly, installation, maintenance and \n",
    "       use. Documentation can be provided on paper, online, or on digital or analog media, such as audio tape or CDs.\n",
    "    ', 'NOT_STARTED', NULL, 2880, 0\"\"\",\n",
    ")"
   ]
  },
  {
   "cell_type": "code",
   "execution_count": 230,
   "metadata": {
    "pycharm": {
     "name": "#%%\n"
    }
   },
   "outputs": [
    {
     "name": "stdout",
     "output_type": "stream",
     "text": [
      "Duplicate entry '1' for key 'activities.PRIMARY'\n",
      "Duplicate entry '2' for key 'activities.PRIMARY'\n",
      "Duplicate entry '3' for key 'activities.PRIMARY'\n",
      "Duplicate entry '4' for key 'activities.PRIMARY'\n",
      "Duplicate entry '5' for key 'activities.PRIMARY'\n",
      "Duplicate entry '6' for key 'activities.PRIMARY'\n",
      "Duplicate entry '7' for key 'activities.PRIMARY'\n",
      "Duplicate entry '8' for key 'activities.PRIMARY'\n",
      "Duplicate entry '9' for key 'activities.PRIMARY'\n",
      "Duplicate entry '10' for key 'activities.PRIMARY'\n",
      "Duplicate entry '11' for key 'activities.PRIMARY'\n",
      "Duplicate entry '12' for key 'activities.PRIMARY'\n",
      "Duplicate entry '13' for key 'activities.PRIMARY'\n",
      "Duplicate entry '14' for key 'activities.PRIMARY'\n",
      "Duplicate entry '15' for key 'activities.PRIMARY'\n",
      "Duplicate entry '16' for key 'activities.PRIMARY'\n"
     ]
    }
   ],
   "source": [
    "insert(ACTIVITIES, 'activities')"
   ]
  },
  {
   "cell_type": "markdown",
   "metadata": {
    "pycharm": {
     "name": "#%% md\n"
    }
   },
   "source": [
    "#### CONNECT ACTIVITY TO PROJECT IN TABLE ```CONSIST```"
   ]
  },
  {
   "cell_type": "code",
   "execution_count": 214,
   "metadata": {
    "pycharm": {
     "name": "#%%\n"
    }
   },
   "outputs": [],
   "source": [
    "CONNECT1 = []\n",
    "\n",
    "CONNECT1 += (\n",
    "    \"1, 1\",\n",
    "    \"2, 1\",\n",
    "    \"3, 1\",\n",
    "    \"4, 1\",\n",
    "    \"5, 1\",\n",
    "    \"6, 1\",\n",
    "\n",
    "    \"7, 2\",\n",
    "    \"8, 2\",\n",
    "    \"9, 2\",\n",
    "    \"10, 2\",\n",
    "    \"11, 2\",\n",
    "    \"12, 2\",\n",
    "    \"13, 2\",\n",
    "    \"14, 2\",\n",
    "    \"15, 2\",\n",
    "    \"16, 2\",\n",
    ")"
   ]
  },
  {
   "cell_type": "code",
   "execution_count": 215,
   "metadata": {
    "pycharm": {
     "name": "#%%\n"
    }
   },
   "outputs": [
    {
     "name": "stdout",
     "output_type": "stream",
     "text": [
      "Duplicate entry '1' for key 'consist.PRIMARY'\n",
      "Duplicate entry '2' for key 'consist.PRIMARY'\n",
      "Duplicate entry '3' for key 'consist.PRIMARY'\n",
      "Duplicate entry '4' for key 'consist.PRIMARY'\n",
      "Duplicate entry '5' for key 'consist.PRIMARY'\n",
      "Duplicate entry '6' for key 'consist.PRIMARY'\n",
      "Duplicate entry '7' for key 'consist.PRIMARY'\n",
      "Duplicate entry '8' for key 'consist.PRIMARY'\n",
      "Duplicate entry '9' for key 'consist.PRIMARY'\n",
      "Duplicate entry '10' for key 'consist.PRIMARY'\n",
      "Duplicate entry '11' for key 'consist.PRIMARY'\n",
      "Duplicate entry '12' for key 'consist.PRIMARY'\n",
      "Duplicate entry '13' for key 'consist.PRIMARY'\n",
      "Duplicate entry '14' for key 'consist.PRIMARY'\n",
      "Duplicate entry '15' for key 'consist.PRIMARY'\n",
      "Duplicate entry '16' for key 'consist.PRIMARY'\n"
     ]
    }
   ],
   "source": [
    "insert(CONNECT1, 'consist')"
   ]
  },
  {
   "cell_type": "markdown",
   "metadata": {
    "pycharm": {
     "name": "#%% md\n"
    }
   },
   "source": [
    "#### CONNECT USERS(MANAGERS) TO PROJECT IN TABLE ```MANAGE```"
   ]
  },
  {
   "cell_type": "code",
   "execution_count": 216,
   "metadata": {
    "pycharm": {
     "name": "#%%\n"
    }
   },
   "outputs": [],
   "source": [
    "CONNECT2 = []\n",
    "\n",
    "CONNECT2 += (\n",
    "    \"8, 1\",\n",
    "    \"3, 2\"\n",
    ")"
   ]
  },
  {
   "cell_type": "code",
   "execution_count": 217,
   "metadata": {
    "pycharm": {
     "name": "#%%\n"
    }
   },
   "outputs": [
    {
     "name": "stdout",
     "output_type": "stream",
     "text": [
      "Duplicate entry '1' for key 'manage.PRIMARY'\n",
      "Duplicate entry '2' for key 'manage.PRIMARY'\n"
     ]
    }
   ],
   "source": [
    "insert(CONNECT2, 'manage')"
   ]
  },
  {
   "cell_type": "markdown",
   "metadata": {
    "pycharm": {
     "name": "#%% md\n"
    }
   },
   "source": [
    "#### CONNECT USERS(EMPLOYEES) TO ACTIVITY IN TABLE ```ROLE```"
   ]
  },
  {
   "cell_type": "code",
   "execution_count": 218,
   "metadata": {
    "pycharm": {
     "name": "#%%\n"
    }
   },
   "outputs": [],
   "source": [
    "CONNECT3 = []\n",
    "\n",
    "CONNECT3 += (\n",
    "    \"6, 1, 'Data engineer'\",\n",
    "    \"6, 2, 'Data engineer'\", \n",
    "    \"6, 3, 'Data engineer'\",\n",
    "    \"9, 4, 'QA engineer'\",\n",
    "    \"7, 5, 'Debugger'\",\n",
    "    \"9, 6, 'QA engineer'\",\n",
    "\n",
    "    \"2, 7, 'Data engineer'\",\n",
    "    \"5, 8, 'Front-End developer'\",\n",
    "    \"1, 9, 'Back-End developer'\",\n",
    "    \"2, 10, 'Data engineer'\",\n",
    "    \"5, 11, 'Front-End developer'\",\n",
    "    \"1, 12, 'Back-End developer'\",\n",
    "    \"5, 13, 'Front-End developer'\",\n",
    "    \"1, 14, 'Back-End developer'\"\n",
    ")"
   ]
  },
  {
   "cell_type": "code",
   "execution_count": 219,
   "metadata": {
    "pycharm": {
     "name": "#%%\n"
    }
   },
   "outputs": [
    {
     "name": "stdout",
     "output_type": "stream",
     "text": [
      "Duplicate entry '6-1' for key 'role.PRIMARY'\n",
      "Duplicate entry '6-2' for key 'role.PRIMARY'\n",
      "Duplicate entry '6-3' for key 'role.PRIMARY'\n",
      "Duplicate entry '9-4' for key 'role.PRIMARY'\n",
      "Duplicate entry '7-5' for key 'role.PRIMARY'\n",
      "Duplicate entry '9-6' for key 'role.PRIMARY'\n",
      "Duplicate entry '2-7' for key 'role.PRIMARY'\n",
      "Duplicate entry '5-8' for key 'role.PRIMARY'\n",
      "Duplicate entry '1-9' for key 'role.PRIMARY'\n",
      "Duplicate entry '2-10' for key 'role.PRIMARY'\n",
      "Duplicate entry '5-11' for key 'role.PRIMARY'\n",
      "Duplicate entry '1-12' for key 'role.PRIMARY'\n",
      "Duplicate entry '5-13' for key 'role.PRIMARY'\n",
      "Duplicate entry '1-14' for key 'role.PRIMARY'\n"
     ]
    }
   ],
   "source": [
    "insert(CONNECT3, 'role')"
   ]
  },
  {
   "cell_type": "markdown",
   "metadata": {
    "pycharm": {
     "name": "#%% md\n"
    }
   },
   "source": [
    "#### INSERT INTO TABLE ```REPORT```"
   ]
  },
  {
   "cell_type": "code",
   "execution_count": 220,
   "metadata": {
    "pycharm": {
     "name": "#%%\n"
    }
   },
   "outputs": [],
   "source": [
    "REPORTS = []\n",
    "\n",
    "REPORTS += (\n",
    "    \"7, '2022-04-01', 480\",\n",
    "    \"7, '2022-04-02', 480\",\n",
    "    \"8, '2022-04-03', 480\",\n",
    "    \"8, '2022-04-04', 480\",\n",
    "    \"9, '2022-04-03', 480\",\n",
    "    \"9, '2022-04-04', 480\",\n",
    "    \"10, '2022-04-05', 480\",\n",
    "    \"11, '2022-04-06', 480\",\n",
    "    \"11, '2022-04-07', 480\",\n",
    "    \"12, '2022-04-06', 480\",\n",
    "    \"12, '2022-04-07', 480\",\n",
    "    \"13, '2022-04-10', 300\",\n",
    "    \"14, '2022-04-10', 120\",\n",
    ")"
   ]
  },
  {
   "cell_type": "code",
   "execution_count": 221,
   "metadata": {
    "pycharm": {
     "name": "#%%\n"
    }
   },
   "outputs": [
    {
     "name": "stdout",
     "output_type": "stream",
     "text": [
      "Duplicate entry '7-2022-04-01' for key 'report.PRIMARY'\n",
      "Duplicate entry '7-2022-04-02' for key 'report.PRIMARY'\n",
      "Duplicate entry '8-2022-04-03' for key 'report.PRIMARY'\n",
      "Duplicate entry '8-2022-04-04' for key 'report.PRIMARY'\n",
      "Duplicate entry '9-2022-04-03' for key 'report.PRIMARY'\n",
      "Duplicate entry '9-2022-04-04' for key 'report.PRIMARY'\n",
      "Duplicate entry '10-2022-04-05' for key 'report.PRIMARY'\n",
      "Duplicate entry '11-2022-04-06' for key 'report.PRIMARY'\n",
      "Duplicate entry '11-2022-04-07' for key 'report.PRIMARY'\n",
      "Duplicate entry '12-2022-04-06' for key 'report.PRIMARY'\n",
      "Duplicate entry '12-2022-04-07' for key 'report.PRIMARY'\n",
      "Duplicate entry '13-2022-04-10' for key 'report.PRIMARY'\n",
      "Duplicate entry '14-2022-04-10' for key 'report.PRIMARY'\n"
     ]
    }
   ],
   "source": [
    "insert(REPORTS, 'report')"
   ]
  }
 ],
 "metadata": {
  "interpreter": {
   "hash": "ac59ebe37160ed0dfa835113d9b8498d9f09ceb179beaac4002f036b9467c963"
  },
  "kernelspec": {
   "display_name": "Python 3.9.9 64-bit",
   "language": "python",
   "name": "python3"
  },
  "language_info": {
   "codemirror_mode": {
    "name": "ipython",
    "version": 3
   },
   "file_extension": ".py",
   "mimetype": "text/x-python",
   "name": "python",
   "nbconvert_exporter": "python",
   "pygments_lexer": "ipython3",
   "version": "3.9.9"
  },
  "orig_nbformat": 4
 },
 "nbformat": 4,
 "nbformat_minor": 2
}
